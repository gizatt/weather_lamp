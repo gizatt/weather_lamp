{
 "cells": [
  {
   "cell_type": "code",
   "execution_count": 1,
   "metadata": {},
   "outputs": [],
   "source": [
    "using WebSockets\n",
    "using JSON\n",
    "using PyPlot\n",
    "using TimerOutputs"
   ]
  },
  {
   "cell_type": "code",
   "execution_count": 2,
   "metadata": {},
   "outputs": [
    {
     "output_type": "execute_result",
     "data": {
      "text/plain": [
       "\"{\\\"sig\\\":false}\""
      ]
     },
     "metadata": {},
     "execution_count": 2
    }
   ],
   "source": [
    "time_msg = JSON.json(Dict(\"time\" => 0))\n",
    "sig_msg = JSON.json(Dict(\"sig\" => false))"
   ]
  },
  {
   "cell_type": "code",
   "execution_count": 3,
   "metadata": {
    "tags": []
   },
   "outputs": [
    {
     "output_type": "execute_result",
     "data": {
      "text/plain": [
       "HTTP.Messages.Response:\n",
       "\"\"\"\n",
       "HTTP/1.1 400 Bad Request\r\n",
       "Server: nginx/1.14.0 (Ubuntu)\r\n",
       "Date: Mon, 24 May 2021 05:32:41 GMT\r\n",
       "Content-Type: text/html\r\n",
       "Content-Length: 280\r\n",
       "Connection: close\r\n",
       "\r\n",
       "\"\"\""
      ]
     },
     "metadata": {},
     "execution_count": 3
    }
   ],
   "source": [
    "lats = []\n",
    "lons = []\n",
    "WebSockets.open(\"wss://ws5.blitzortung.org:3000\") do ws_client\n",
    "    send_bytes = 0\n",
    "    rec_bytes = 0\n",
    "    start = time()\n",
    "    success = writeguarded(ws_client, time_msg)\n",
    "    send_bytes += length(time_msg)\n",
    "    println(success)\n",
    "    success = writeguarded(ws_client, sig_msg)\n",
    "    send_bytes += length(time_msg)\n",
    "    println(success)\n",
    "\n",
    "    for k in 0:10\n",
    "        data, success = readguarded(ws_client)\n",
    "        rec_bytes += length(data)\n",
    "        data = JSON.parse(String(data))\n",
    "        println(success, \" \",\n",
    "                data[\"lat\"], \", \", data[\"lon\"])\n",
    "        if success\n",
    "            append!(lats, [data[\"lat\"]])\n",
    "            append!(lons, [data[\"lon\"]])\n",
    "        end\n",
    "        # This only has to be sent every ~30 seconds, I think, as a keepalive.\n",
    "        success = writeguarded(ws_client, \"{}\")\n",
    "        send_bytes += length(\"{}\")\n",
    "        sleep(0.1)\n",
    "    end\n",
    "    elapsed = time() - start\n",
    "    println(\"Send bw: \", send_bytes / elapsed)\n",
    "    println(\"Recv bw: \", rec_bytes / elapsed)\n",
    "end\n"
   ]
  },
  {
   "cell_type": "code",
   "execution_count": 4,
   "metadata": {},
   "outputs": [
    {
     "output_type": "display_data",
     "data": {
      "text/plain": "Figure(PyObject <Figure size 640x480 with 1 Axes>)",
      "image/png": "[encoded data removed]"
     },
     "metadata": {}
    },
    {
     "output_type": "execute_result",
     "data": {
      "text/plain": [
       "PyObject <matplotlib.collections.PathCollection object at 0x000000004AAB6430>"
      ]
     },
     "metadata": {},
     "execution_count": 4
    }
   ],
   "source": [
    "#figure((3, 3))\n",
    "scatter(lons, lats)"
   ]
  },
  {
   "cell_type": "code",
   "execution_count": null,
   "metadata": {},
   "outputs": [],
   "source": []
  }
 ],
 "metadata": {
  "kernelspec": {
   "display_name": "Julia 1.5.2",
   "language": "julia",
   "name": "julia-1.5"
  },
  "language_info": {
   "file_extension": ".jl",
   "mimetype": "application/julia",
   "name": "julia",
   "version": "1.5.2"
  }
 },
 "nbformat": 4,
 "nbformat_minor": 4
}